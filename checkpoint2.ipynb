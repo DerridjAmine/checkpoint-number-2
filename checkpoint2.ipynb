{
 "cells": [
  {
   "cell_type": "code",
   "execution_count": 13,
   "id": "ff2c3cde",
   "metadata": {},
   "outputs": [
    {
     "name": "stdout",
     "output_type": "stream",
     "text": [
      "user nameaminedd\n",
      "last namesamy\n",
      "samy aminedd\n"
     ]
    }
   ],
   "source": [
    "a=input(\"user name\")\n",
    "b=input(\"last name\")\n",
    "print(b,a)"
   ]
  },
  {
   "cell_type": "code",
   "execution_count": 8,
   "id": "954da275",
   "metadata": {},
   "outputs": [
    {
     "name": "stdout",
     "output_type": "stream",
     "text": [
      "615\n"
     ]
    }
   ],
   "source": [
    "n=str(5)\n",
    "a=n\n",
    "b=n+n\n",
    "c=n+n+n\n",
    "r=int(a)+int(b)+int(c)\n",
    "print(r)"
   ]
  },
  {
   "cell_type": "code",
   "execution_count": 12,
   "id": "523c53f1",
   "metadata": {},
   "outputs": [
    {
     "name": "stdout",
     "output_type": "stream",
     "text": [
      "enter a number6\n",
      "even\n"
     ]
    }
   ],
   "source": [
    "a = int(input(\"enter a number\"))\n",
    "if a % 2 == 0:\n",
    "    print(\"even\")\n",
    "else: \n",
    "    print(\"odd\")"
   ]
  },
  {
   "cell_type": "code",
   "execution_count": 22,
   "id": "dc7a49a5",
   "metadata": {},
   "outputs": [
    {
     "name": "stdout",
     "output_type": "stream",
     "text": [
      "2002 2009 2016 2023 2037 2044 2051 2058 2072 2079 2086 2093 2107 2114 2121 2128 2142 2149 2156 2163 2177 2184 2191 2198 2212 2219 2226 2233 2247 2254 2261 2268 2282 2289 2296 2303 2317 2324 2331 2338 2352 2359 2366 2373 2387 2394 2401 2408 2422 2429 2436 2443 2457 2464 2471 2478 2492 2499 2506 2513 2527 2534 2541 2548 2562 2569 2576 2583 2597 2604 2611 2618 2632 2639 2646 2653 2667 2674 2681 2688 2702 2709 2716 2723 2737 2744 2751 2758 2772 2779 2786 2793 2807 2814 2821 2828 2842 2849 2856 2863 2877 2884 2891 2898 2912 2919 2926 2933 2947 2954 2961 2968 2982 2989 2996 3003 3017 3024 3031 3038 3052 3059 3066 3073 3087 3094 3101 3108 3122 3129 3136 3143 3157 3164 3171 3178 3192 3199 "
     ]
    }
   ],
   "source": [
    "j= range(2000,3201)\n",
    "for n in j:\n",
    "    if n % 7 == 0 and n % 5 != 0:\n",
    "        print(n,end=\" \")"
   ]
  },
  {
   "cell_type": "code",
   "execution_count": 8,
   "id": "18ea97dc",
   "metadata": {},
   "outputs": [
    {
     "name": "stdout",
     "output_type": "stream",
     "text": [
      "8\n",
      "40320\n"
     ]
    }
   ],
   "source": [
    "n=int(input())\n",
    "b=1\n",
    "for i in range(1,n+1):\n",
    "    b=b*i\n",
    "print(b)\n",
    "\n"
   ]
  },
  {
   "cell_type": "raw",
   "id": "590ca720",
   "metadata": {},
   "source": []
  },
  {
   "cell_type": "code",
   "execution_count": 6,
   "id": "d2361cb0",
   "metadata": {},
   "outputs": [
    {
     "name": "stdout",
     "output_type": "stream",
     "text": [
      "h l o t a "
     ]
    }
   ],
   "source": [
    "n=\"hello team\"\n",
    "for i in range (len(n)):\n",
    "    if i%2==0:\n",
    "        \n",
    "        print(n[i],end=\" \")"
   ]
  },
  {
   "cell_type": "code",
   "execution_count": 2,
   "id": "ca628199",
   "metadata": {},
   "outputs": [
    {
     "name": "stdout",
     "output_type": "stream",
     "text": [
      "helo tam\n"
     ]
    }
   ],
   "source": [
    "n=\"hello team\"\n",
    "r=\"\"\n",
    "for element in range(len(n)):\n",
    "    if n[element] in r:\n",
    "        pass\n",
    "    else: \n",
    "        r=r+n[element]\n",
    "print(r)\n"
   ]
  },
  {
   "cell_type": "code",
   "execution_count": 4,
   "id": "c1e79d37",
   "metadata": {},
   "outputs": [
    {
     "name": "stdout",
     "output_type": "stream",
     "text": [
      "54689723\n"
     ]
    }
   ],
   "source": [
    "y=str(55446688997722333)\n",
    "f=\"\"\n",
    "for element in range(len(y)):\n",
    "    if y[element] in f:\n",
    "        pass\n",
    "    else:\n",
    "        f=f+y[element]\n",
    "print(f)"
   ]
  },
  {
   "cell_type": "code",
   "execution_count": 19,
   "id": "913b11e8",
   "metadata": {},
   "outputs": [
    {
     "name": "stdout",
     "output_type": "stream",
     "text": [
      "150\n",
      "the price is 135.0 the discount is 15.0\n"
     ]
    }
   ],
   "source": [
    "value=int(input())\n",
    "if value>=500:\n",
    "    price=value-value*0.5\n",
    "    discount=value*0.5\n",
    "    print(\"the price is\",price,\n",
    "          \"the discount is\",discount)\n",
    "elif value>=200 and value<500:\n",
    "    price=value-value*0.3\n",
    "    discount=value*0.3\n",
    "    print(\"the price is\",price,\n",
    "          \"the discount is\",discount)\n",
    "else:\n",
    "    value<200\n",
    "    price=value-value*0.1\n",
    "    discount=value*0.1\n",
    "    print(\"the price is\",price,\n",
    "          \"the discount is\",discount)"
   ]
  },
  {
   "cell_type": "code",
   "execution_count": null,
   "id": "73b6f790",
   "metadata": {},
   "outputs": [],
   "source": []
  }
 ],
 "metadata": {
  "kernelspec": {
   "display_name": "Python 3 (ipykernel)",
   "language": "python",
   "name": "python3"
  },
  "language_info": {
   "codemirror_mode": {
    "name": "ipython",
    "version": 3
   },
   "file_extension": ".py",
   "mimetype": "text/x-python",
   "name": "python",
   "nbconvert_exporter": "python",
   "pygments_lexer": "ipython3",
   "version": "3.9.12"
  }
 },
 "nbformat": 4,
 "nbformat_minor": 5
}
